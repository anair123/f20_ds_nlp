{
 "cells": [
  {
   "cell_type": "code",
   "execution_count": 1,
   "metadata": {},
   "outputs": [],
   "source": [
    "tokens = \"ba bb bc ca cb\" #\n",
    "tokens = \"bank bar barry bench car cab\"\n",
    "list_of_tokens = tokens.split()"
   ]
  },
  {
   "cell_type": "code",
   "execution_count": null,
   "metadata": {},
   "outputs": [],
   "source": []
  },
  {
   "cell_type": "code",
   "execution_count": 2,
   "metadata": {},
   "outputs": [
    {
     "name": "stdout",
     "output_type": "stream",
     "text": [
      "bank\n",
      "0  --  b  --  []\n",
      "{'b': {}}\n",
      "1  --  a  --  ['b']\n",
      "{'b': {'a': {}}}\n",
      "2  --  n  --  ['b', 'a']\n",
      "{'b': {'a': {'n': {}}}}\n",
      "3  --  k  --  ['b', 'a', 'n']\n",
      "{'b': {'a': {'n': {'k': {}}}}}\n",
      "bar\n",
      "0  --  b  --  []\n",
      "{'b': {'a': {'n': {'k': {}}}}}\n",
      "1  --  a  --  ['b']\n",
      "{'b': {'a': {'n': {'k': {}}}}}\n",
      "2  --  r  --  ['b', 'a']\n",
      "{'b': {'a': {'n': {'k': {}}, 'r': {}}}}\n",
      "barry\n",
      "0  --  b  --  []\n",
      "{'b': {'a': {'n': {'k': {}}, 'r': {}}}}\n",
      "1  --  a  --  ['b']\n",
      "{'b': {'a': {'n': {'k': {}}, 'r': {}}}}\n",
      "2  --  r  --  ['b', 'a']\n",
      "{'b': {'a': {'n': {'k': {}}, 'r': {}}}}\n",
      "3  --  r  --  ['b', 'a', 'r']\n",
      "{'b': {'a': {'n': {'k': {}}, 'r': {'r': {}}}}}\n",
      "4  --  y  --  ['b', 'a', 'r', 'r']\n",
      "{'b': {'a': {'n': {'k': {}}, 'r': {'r': {'y': {}}}}}}\n",
      "bench\n",
      "0  --  b  --  []\n",
      "{'b': {'a': {'n': {'k': {}}, 'r': {'r': {'y': {}}}}}}\n",
      "1  --  e  --  ['b']\n",
      "{'b': {'a': {'n': {'k': {}}, 'r': {'r': {'y': {}}}}, 'e': {}}}\n",
      "2  --  n  --  ['b', 'e']\n",
      "{'b': {'a': {'n': {'k': {}}, 'r': {'r': {'y': {}}}}, 'e': {'n': {}}}}\n",
      "3  --  c  --  ['b', 'e', 'n']\n",
      "{'b': {'a': {'n': {'k': {}}, 'r': {'r': {'y': {}}}}, 'e': {'n': {'c': {}}}}}\n",
      "4  --  h  --  ['b', 'e', 'n', 'c']\n",
      "{'b': {'a': {'n': {'k': {}}, 'r': {'r': {'y': {}}}}, 'e': {'n': {'c': {'h': {}}}}}}\n",
      "car\n",
      "0  --  c  --  []\n",
      "{'b': {'a': {'n': {'k': {}}, 'r': {'r': {'y': {}}}}, 'e': {'n': {'c': {'h': {}}}}}, 'c': {}}\n",
      "1  --  a  --  ['c']\n",
      "{'b': {'a': {'n': {'k': {}}, 'r': {'r': {'y': {}}}}, 'e': {'n': {'c': {'h': {}}}}}, 'c': {'a': {}}}\n",
      "2  --  r  --  ['c', 'a']\n",
      "{'b': {'a': {'n': {'k': {}}, 'r': {'r': {'y': {}}}}, 'e': {'n': {'c': {'h': {}}}}}, 'c': {'a': {'r': {}}}}\n",
      "cab\n",
      "0  --  c  --  []\n",
      "{'b': {'a': {'n': {'k': {}}, 'r': {'r': {'y': {}}}}, 'e': {'n': {'c': {'h': {}}}}}, 'c': {'a': {'r': {}}}}\n",
      "1  --  a  --  ['c']\n",
      "{'b': {'a': {'n': {'k': {}}, 'r': {'r': {'y': {}}}}, 'e': {'n': {'c': {'h': {}}}}}, 'c': {'a': {'r': {}}}}\n",
      "2  --  b  --  ['c', 'a']\n",
      "{'b': {'a': {'n': {'k': {}}, 'r': {'r': {'y': {}}}}, 'e': {'n': {'c': {'h': {}}}}}, 'c': {'a': {'r': {}, 'b': {}}}}\n"
     ]
    }
   ],
   "source": [
    "term_dict = {}\n",
    "for token in list_of_tokens:\n",
    "    print(token)\n",
    "    character_stack = []\n",
    "    for index, character in enumerate(token):\n",
    "        print(index, \" -- \", character, \" -- \", character_stack)\n",
    "        if index == 0 and (character not in term_dict.keys()):\n",
    "            term_dict[character] = {}\n",
    "        else:\n",
    "            final_dictionary = term_dict\n",
    "            for c_char in character_stack:\n",
    "                final_dictionary = final_dictionary[c_char]\n",
    "            if character not in final_dictionary.keys():\n",
    "                final_dictionary[character] = {}\n",
    "        print(term_dict)\n",
    "        character_stack.append(character)"
   ]
  },
  {
   "cell_type": "code",
   "execution_count": null,
   "metadata": {},
   "outputs": [],
   "source": [
    "sentences = [\"george went to the store\",\n",
    "            \"george went to the market\",\n",
    "            \"george went to the library\",\n",
    "             \"george went to a place\"]\n",
    "#list_of_tokens = tokens.split()"
   ]
  },
  {
   "cell_type": "code",
   "execution_count": null,
   "metadata": {},
   "outputs": [],
   "source": [
    "term_dict = {}\n",
    "for token in list_of_tokens:\n",
    "    print(token)\n",
    "    character_stack = []\n",
    "    for index, character in enumerate(token):\n",
    "        print(index, \" -- \", character, \" -- \", character_stack)\n",
    "        if index == 0 and (character not in term_dict.keys()):\n",
    "            term_dict[character] = [1,0, {}]\n",
    "        else:\n",
    "            #term_dict[character][0] = term_dict[character][0] + 1\n",
    "            final_dictionary = term_dict\n",
    "            for c_char in character_stack:\n",
    "                base_final_dictionary = final_dictionary[c_char]#[1]\n",
    "                final_dictionary = base_final_dictionary[1]\n",
    "                base_final_dictionary[0] = base_final_dictionary[0] + 1\n",
    "                print(\"***\")\n",
    "                print(final_dictionary)\n",
    "                #final_dictionary[0] = final_dictionary[0] + 1\n",
    "            if character not in final_dictionary.keys():\n",
    "                final_dictionary[character] = [1,0, {}]\n",
    "        print(term_dict)\n",
    "        character_stack.append(character)"
   ]
  },
  {
   "cell_type": "code",
   "execution_count": null,
   "metadata": {},
   "outputs": [],
   "source": []
  }
 ],
 "metadata": {
  "kernelspec": {
   "display_name": "Python 3",
   "language": "python",
   "name": "python3"
  },
  "language_info": {
   "codemirror_mode": {
    "name": "ipython",
    "version": 3
   },
   "file_extension": ".py",
   "mimetype": "text/x-python",
   "name": "python",
   "nbconvert_exporter": "python",
   "pygments_lexer": "ipython3",
   "version": "3.7.6"
  }
 },
 "nbformat": 4,
 "nbformat_minor": 2
}
