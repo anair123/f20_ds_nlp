{
 "cells": [
  {
   "cell_type": "code",
   "execution_count": 1,
   "metadata": {},
   "outputs": [],
   "source": [
    "doc1 = \"Sugar is bad to consume. My sister likes to have sugar, but not my father.\"\n",
    "doc2 = \"My father spends a lot of time driving my sister around to dance practice.\"\n",
    "doc3 = \"Doctors suggest that driving may cause increased stress and blood pressure.\"\n",
    "doc4 = \"Sometimes I feel pressure to perform well at school, but my father never seems to drive my sister to do better.\"\n",
    "doc5 = \"Health experts say that Sugar is not good for your lifestyle.\"\n",
    "\n",
    "# compile documents\n",
    "doc_complete = [doc1, doc2, doc3, doc4, doc5]"
   ]
  },
  {
   "cell_type": "code",
   "execution_count": 2,
   "metadata": {},
   "outputs": [],
   "source": [
    "from gensim import corpora\n",
    "from nltk.corpus import stopwords \n",
    "from nltk.stem.wordnet import WordNetLemmatizer\n",
    "import string\n",
    "stop = set(stopwords.words('english'))\n",
    "exclude = set(string.punctuation) \n",
    "lemma = WordNetLemmatizer()\n",
    "def clean(doc):\n",
    "    stop_free = \" \".join([i for i in doc.lower().split() if i not in stop])\n",
    "    punc_free = ''.join(ch for ch in stop_free if ch not in exclude)\n",
    "    normalized = \" \".join(lemma.lemmatize(word) for word in punc_free.split())\n",
    "    return normalized\n",
    "\n",
    "doc_clean = [clean(doc).split() for doc in doc_complete]    \n",
    "\n",
    "dictionary = corpora.Dictionary(doc_clean)\n"
   ]
  },
  {
   "cell_type": "code",
   "execution_count": 3,
   "metadata": {},
   "outputs": [
    {
     "data": {
      "text/plain": [
       "[['sugar', 'bad', 'consume', 'sister', 'like', 'sugar', 'father'],\n",
       " ['father',\n",
       "  'spends',\n",
       "  'lot',\n",
       "  'time',\n",
       "  'driving',\n",
       "  'sister',\n",
       "  'around',\n",
       "  'dance',\n",
       "  'practice'],\n",
       " ['doctor',\n",
       "  'suggest',\n",
       "  'driving',\n",
       "  'may',\n",
       "  'cause',\n",
       "  'increased',\n",
       "  'stress',\n",
       "  'blood',\n",
       "  'pressure'],\n",
       " ['sometimes',\n",
       "  'feel',\n",
       "  'pressure',\n",
       "  'perform',\n",
       "  'well',\n",
       "  'school',\n",
       "  'father',\n",
       "  'never',\n",
       "  'seems',\n",
       "  'drive',\n",
       "  'sister',\n",
       "  'better'],\n",
       " ['health', 'expert', 'say', 'sugar', 'good', 'lifestyle']]"
      ]
     },
     "execution_count": 3,
     "metadata": {},
     "output_type": "execute_result"
    }
   ],
   "source": [
    "doc_clean"
   ]
  },
  {
   "cell_type": "code",
   "execution_count": 4,
   "metadata": {},
   "outputs": [
    {
     "data": {
      "text/plain": [
       "<gensim.corpora.dictionary.Dictionary at 0x1a1ec49250>"
      ]
     },
     "execution_count": 4,
     "metadata": {},
     "output_type": "execute_result"
    }
   ],
   "source": [
    "dictionary"
   ]
  },
  {
   "cell_type": "code",
   "execution_count": 5,
   "metadata": {},
   "outputs": [],
   "source": [
    "import gensim\n",
    "from gensim import corpora\n",
    "\n",
    "# Creating the term dictionary of our courpus, where every unique term is assigned an index. dictionary = corpora.Dictionary(doc_clean)\n",
    "\n",
    "# Converting list of documents (corpus) into Document Term Matrix using dictionary prepared above.\n",
    "doc_term_matrix = [dictionary.doc2bow(doc) for doc in doc_clean]"
   ]
  },
  {
   "cell_type": "code",
   "execution_count": 6,
   "metadata": {},
   "outputs": [
    {
     "name": "stdout",
     "output_type": "stream",
     "text": [
      "[[(0, 1), (1, 1), (2, 1), (3, 1), (4, 1), (5, 2)], [(2, 1), (4, 1), (6, 1), (7, 1), (8, 1), (9, 1), (10, 1), (11, 1), (12, 1)], [(8, 1), (13, 1), (14, 1), (15, 1), (16, 1), (17, 1), (18, 1), (19, 1), (20, 1)], [(2, 1), (4, 1), (18, 1), (21, 1), (22, 1), (23, 1), (24, 1), (25, 1), (26, 1), (27, 1), (28, 1), (29, 1)], [(5, 1), (30, 1), (31, 1), (32, 1), (33, 1), (34, 1)]]\n",
      "[(0, 1), (1, 1), (2, 1), (3, 1), (4, 1), (5, 2)]\n",
      "[(2, 1), (4, 1), (6, 1), (7, 1), (8, 1), (9, 1), (10, 1), (11, 1), (12, 1)]\n",
      "[(8, 1), (13, 1), (14, 1), (15, 1), (16, 1), (17, 1), (18, 1), (19, 1), (20, 1)]\n",
      "[(2, 1), (4, 1), (18, 1), (21, 1), (22, 1), (23, 1), (24, 1), (25, 1), (26, 1), (27, 1), (28, 1), (29, 1)]\n",
      "[(5, 1), (30, 1), (31, 1), (32, 1), (33, 1), (34, 1)]\n"
     ]
    }
   ],
   "source": [
    "print(doc_term_matrix)\n",
    "for i in doc_term_matrix:\n",
    "    print(i)"
   ]
  },
  {
   "cell_type": "code",
   "execution_count": 19,
   "metadata": {},
   "outputs": [],
   "source": [
    "# Creating the object for LDA model using gensim library\n",
    "Lda = gensim.models.ldamodel.LdaModel\n",
    "\n",
    "# Running and Trainign LDA model on the document term matrix.\n",
    "ldamodel = Lda(doc_term_matrix, num_topics=6, id2word = dictionary, passes=50)"
   ]
  },
  {
   "cell_type": "code",
   "execution_count": 26,
   "metadata": {},
   "outputs": [
    {
     "name": "stdout",
     "output_type": "stream",
     "text": [
      "[(0, '0.099*\"sugar\" + 0.099*\"say\" + 0.099*\"lifestyle\" + 0.099*\"health\" + 0.099*\"good\" + 0.099*\"expert\" + 0.014*\"driving\" + 0.014*\"father\" + 0.014*\"sister\" + 0.014*\"consume\"'), (1, '0.099*\"father\" + 0.099*\"sister\" + 0.099*\"sugar\" + 0.053*\"dance\" + 0.053*\"practice\" + 0.053*\"lot\" + 0.053*\"time\" + 0.053*\"spends\" + 0.053*\"around\" + 0.053*\"like\"'), (2, '0.029*\"sugar\" + 0.029*\"driving\" + 0.029*\"father\" + 0.029*\"sister\" + 0.029*\"bad\" + 0.029*\"consume\" + 0.029*\"like\" + 0.029*\"pressure\" + 0.029*\"dance\" + 0.029*\"time\"'), (3, '0.079*\"driving\" + 0.079*\"pressure\" + 0.079*\"stress\" + 0.079*\"doctor\" + 0.079*\"increased\" + 0.079*\"blood\" + 0.079*\"may\" + 0.079*\"suggest\" + 0.079*\"cause\" + 0.011*\"sugar\"'), (4, '0.065*\"sometimes\" + 0.065*\"never\" + 0.065*\"drive\" + 0.065*\"better\" + 0.065*\"school\" + 0.065*\"perform\" + 0.065*\"feel\" + 0.065*\"seems\" + 0.065*\"well\" + 0.065*\"pressure\"'), (5, '0.029*\"sister\" + 0.029*\"father\" + 0.029*\"sugar\" + 0.029*\"driving\" + 0.029*\"pressure\" + 0.029*\"consume\" + 0.029*\"bad\" + 0.029*\"like\" + 0.029*\"well\" + 0.029*\"seems\"')]\n"
     ]
    }
   ],
   "source": [
    "print(ldamodel.print_topics(num_topics=6, num_words=10))"
   ]
  },
  {
   "cell_type": "code",
   "execution_count": 27,
   "metadata": {},
   "outputs": [
    {
     "name": "stdout",
     "output_type": "stream",
     "text": [
      "(0, '0.099*\"sugar\" + 0.099*\"say\" + 0.099*\"lifestyle\" + 0.099*\"health\" + 0.099*\"good\" + 0.099*\"expert\" + 0.014*\"driving\" + 0.014*\"father\" + 0.014*\"sister\" + 0.014*\"consume\"')\n",
      "(1, '0.099*\"father\" + 0.099*\"sister\" + 0.099*\"sugar\" + 0.053*\"dance\" + 0.053*\"practice\" + 0.053*\"lot\" + 0.053*\"time\" + 0.053*\"spends\" + 0.053*\"around\" + 0.053*\"like\"')\n",
      "(2, '0.029*\"sugar\" + 0.029*\"driving\" + 0.029*\"father\" + 0.029*\"sister\" + 0.029*\"bad\" + 0.029*\"consume\" + 0.029*\"like\" + 0.029*\"pressure\" + 0.029*\"dance\" + 0.029*\"time\"')\n",
      "(3, '0.079*\"driving\" + 0.079*\"pressure\" + 0.079*\"stress\" + 0.079*\"doctor\" + 0.079*\"increased\" + 0.079*\"blood\" + 0.079*\"may\" + 0.079*\"suggest\" + 0.079*\"cause\" + 0.011*\"sugar\"')\n",
      "(4, '0.065*\"sometimes\" + 0.065*\"never\" + 0.065*\"drive\" + 0.065*\"better\" + 0.065*\"school\" + 0.065*\"perform\" + 0.065*\"feel\" + 0.065*\"seems\" + 0.065*\"well\" + 0.065*\"pressure\"')\n",
      "(5, '0.029*\"sister\" + 0.029*\"father\" + 0.029*\"sugar\" + 0.029*\"driving\" + 0.029*\"pressure\" + 0.029*\"consume\" + 0.029*\"bad\" + 0.029*\"like\" + 0.029*\"well\" + 0.029*\"seems\"')\n"
     ]
    }
   ],
   "source": [
    "for topic in ldamodel.print_topics(num_topics=6, num_words=10):\n",
    "    print(topic)"
   ]
  },
  {
   "cell_type": "code",
   "execution_count": 23,
   "metadata": {},
   "outputs": [],
   "source": [
    "doc_topics = ldamodel[doc_term_matrix]"
   ]
  },
  {
   "cell_type": "code",
   "execution_count": 24,
   "metadata": {},
   "outputs": [
    {
     "name": "stdout",
     "output_type": "stream",
     "text": [
      "[(0, 0.020888533), (1, 0.89573866), (2, 0.020834934), (3, 0.020833962), (4, 0.02086898), (5, 0.020834934)]\n",
      "[(0, 0.016667467), (1, 0.9166089), (2, 0.01666831), (3, 0.016698161), (4, 0.016688766), (5, 0.01666831)]\n",
      "[(0, 0.016667284), (1, 0.01668088), (2, 0.016667934), (3, 0.9166317), (4, 0.01668423), (5, 0.016667934)]\n",
      "[(0, 0.012821081), (1, 0.012870404), (2, 0.012821681), (3, 0.012835216), (4, 0.93582994), (5, 0.012821681)]\n",
      "[(0, 0.8808862), (1, 0.023871753), (2, 0.023810986), (3, 0.023810096), (4, 0.023810007), (5, 0.023810986)]\n"
     ]
    }
   ],
   "source": [
    "for i in doc_topics:\n",
    "    print(i)"
   ]
  },
  {
   "cell_type": "code",
   "execution_count": null,
   "metadata": {},
   "outputs": [],
   "source": []
  }
 ],
 "metadata": {
  "kernelspec": {
   "display_name": "Python 3",
   "language": "python",
   "name": "python3"
  },
  "language_info": {
   "codemirror_mode": {
    "name": "ipython",
    "version": 3
   },
   "file_extension": ".py",
   "mimetype": "text/x-python",
   "name": "python",
   "nbconvert_exporter": "python",
   "pygments_lexer": "ipython3",
   "version": "3.7.6"
  }
 },
 "nbformat": 4,
 "nbformat_minor": 2
}
